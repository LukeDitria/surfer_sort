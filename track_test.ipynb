{
 "cells": [
  {
   "cell_type": "code",
   "execution_count": 1,
   "metadata": {},
   "outputs": [],
   "source": [
    "import matplotlib.pyplot as plt\n",
    "\n",
    "import scipy.io\n",
    "from sort import *\n",
    "import numpy as np\n",
    "import cv2\n",
    "import pandas as pd\n",
    "import ffmpeg\n",
    "from tqdm.notebook import trange, tqdm\n",
    "from collections import defaultdict\n",
    "import json"
   ]
  },
  {
   "cell_type": "code",
   "execution_count": 2,
   "metadata": {},
   "outputs": [],
   "source": [
    "pd_dataframe = pd.read_csv(\"data/au-currumbin4k.stream.20200608T000955960.detections.csv\")"
   ]
  },
  {
   "cell_type": "code",
   "execution_count": 3,
   "metadata": {},
   "outputs": [],
   "source": [
    "unique_times = np.sort(np.unique(pd_dataframe[\"timestamp\"].to_numpy()))"
   ]
  },
  {
   "cell_type": "code",
   "execution_count": 4,
   "metadata": {},
   "outputs": [],
   "source": [
    "pd_dataframe[\"frames_indx\"] = 0\n",
    "for i in range(len(unique_times)):\n",
    "    pd_dataframe.loc[pd_dataframe['timestamp'] == unique_times[i], 'frames_indx'] = i"
   ]
  },
  {
   "cell_type": "code",
   "execution_count": 5,
   "metadata": {},
   "outputs": [],
   "source": [
    "# Remove all non-surfers\n",
    "pd_dataframe = pd_dataframe.drop(pd_dataframe[pd_dataframe[\"class\"] < 5].index)"
   ]
  },
  {
   "cell_type": "code",
   "execution_count": 6,
   "metadata": {},
   "outputs": [],
   "source": [
    "#create instance of SORT\n",
    "mot_tracker = Sort(max_age=10, iou_threshold=0.1)"
   ]
  },
  {
   "cell_type": "code",
   "execution_count": 7,
   "metadata": {},
   "outputs": [],
   "source": [
    "tracks_logger = {}\n",
    "trajectory_logger = defaultdict(lambda: {\"timestamps\": [],\n",
    "                                         \"bounding_boxes\": [], \n",
    "                                         \"centroid\": [], \n",
    "                                         \"velocities\": [],\n",
    "                                         \"number_of_detections\": 0})\n",
    "\n",
    "bb_x_size = 128\n",
    "bb_y_size = 64\n",
    "\n",
    "x_size = 3840\n",
    "y_size = 2160\n",
    "\n",
    "for i in range(pd_dataframe['frames_indx'].max() + 1):\n",
    "    frame_detections = pd_dataframe[pd_dataframe['frames_indx'] == i]\n",
    "    if len(frame_detections) > 0:\n",
    "        centroid_x = (frame_detections[\"x0\"] + (frame_detections[\"x1\"] - frame_detections[\"x0\"])/2).to_numpy()\n",
    "        centroid_y = (frame_detections[\"y0\"] + (frame_detections[\"y1\"] - frame_detections[\"y0\"])/2).to_numpy()\n",
    "        \n",
    "        centroid_x *= x_size\n",
    "        centroid_y *= y_size\n",
    "\n",
    "        score = frame_detections[\"confidence\"].to_numpy()\n",
    "        \n",
    "        original_bbox = np.stack([frame_detections[\"x0\"].to_numpy() * x_size, \n",
    "                                   frame_detections[\"y0\"].to_numpy() * y_size,\n",
    "                                   frame_detections[\"x1\"].to_numpy() * x_size, \n",
    "                                   frame_detections[\"y1\"].to_numpy() * y_size], \n",
    "                                  1).astype(int)\n",
    "\n",
    "        # Use centroid positions to create larger BB of points --> [x0,y0,x1,y1]\n",
    "        detections = np.stack([centroid_x - bb_x_size//2, \n",
    "                               centroid_y - bb_y_size//2,\n",
    "                               centroid_x + bb_x_size//2, \n",
    "                               centroid_y + bb_y_size//2,\n",
    "                               score], \n",
    "                              1)#.astype(int)\n",
    "    else:\n",
    "        detections = np.empty((0, 5))\n",
    "        \n",
    "    trackers, det_indices = mot_tracker.update(detections)\n",
    "    \n",
    "    if len(detections) < len(trackers):\n",
    "        print(\"uh oh\")\n",
    "\n",
    "    tracks_logger[i] = trackers\n",
    "\n",
    "    for track, det in zip(trackers, original_bbox[det_indices]):\n",
    "        timestamp = frame_detections[\"timestamp\"].to_numpy()[0]\n",
    "        bbox = track[:4].astype(int).tolist()\n",
    "        real_bbox = det.astype(int)\n",
    "        velocities = track[4:6].tolist()\n",
    "        ride_id = int(track[-1])\n",
    "\n",
    "        centroid = [bbox[0] + (bbox[2] - bbox[0])/2,\n",
    "                   bbox[1] + (bbox[3] - bbox[1])/2]\n",
    "        \n",
    "        trajectory_logger[ride_id][\"timestamps\"].append(timestamp)\n",
    "        trajectory_logger[ride_id][\"bounding_boxes\"].append(real_bbox)\n",
    "        trajectory_logger[ride_id][\"centroid\"].append(centroid)\n",
    "        trajectory_logger[ride_id][\"velocities\"].append(velocities)\n",
    "        trajectory_logger[ride_id][\"number_of_detections\"] += 1\n",
    "        \n",
    "#     if i > 10:\n",
    "#         break\n",
    "    "
   ]
  },
  {
   "cell_type": "code",
   "execution_count": 8,
   "metadata": {},
   "outputs": [
    {
     "data": {
      "text/plain": [
       "dict_keys([9, 8, 5, 6, 3, 12, 14, 17, 19, 25, 27, 20, 29, 28, 33, 37, 36, 35, 32, 43, 34, 45, 48, 49, 30, 23, 38, 52, 60, 58, 61, 67, 68, 69, 83, 87, 86, 81, 84, 82, 90, 89, 94, 95, 98, 107, 110, 114, 116, 120, 122, 123, 124, 127, 129, 136, 138, 139, 140, 141, 150, 148, 161, 167, 164, 170, 172, 174, 173, 175, 189, 190, 179, 199, 198, 203, 197, 201, 204, 212, 213, 215, 219, 218, 221, 220, 226, 223, 229, 228, 227, 231, 233, 237, 242, 244, 247, 250, 254, 260, 255, 264, 263, 265, 270, 267, 272, 271, 277, 274, 285, 286, 283, 290, 288, 293, 292, 295, 299, 298, 300, 309, 313, 316, 306, 315, 322, 319, 331, 335, 340, 338, 344, 342, 345, 352, 350, 353, 356, 355, 357, 358, 359, 360, 362, 372, 373, 377, 380, 381, 382, 390, 391, 398, 393, 401, 405, 406, 403, 407, 414, 412, 418, 416, 419, 421, 424, 426, 427, 440, 439, 441, 444, 446, 448, 447, 449, 452, 451, 454, 459, 461, 460, 465, 462, 468, 469, 472, 479, 484, 485, 491, 494, 498, 502, 503, 508, 513, 517, 519, 522, 526, 524, 528, 529, 532, 534, 537, 540, 535, 544, 545, 547, 550, 549, 556, 563, 567, 569, 571, 565, 575, 572, 581, 582, 585, 583, 589, 590, 592, 595, 593, 599, 597, 598, 600, 603, 604, 610, 612, 611, 606, 615, 620, 623, 624, 626, 625, 627, 630, 631, 629, 633, 632, 639, 637, 648, 645, 654, 657, 655, 659, 668, 663, 669, 674, 673, 670, 676, 665, 679, 683, 682, 686, 690, 693, 694, 688, 691, 700, 692, 702, 704, 712, 714, 713, 710, 720, 721, 724, 723, 725, 728, 734, 729, 737, 741, 742, 743, 744, 745, 746, 738, 749, 751, 766, 764, 774, 775, 777, 778, 782, 785, 789, 793, 795, 802, 800, 796, 806, 804, 809, 813, 818, 816, 821, 825, 827, 829, 833, 837, 836, 832, 845, 840, 843, 848, 850, 855, 842, 858, 864, 869, 875, 877, 886, 890, 892, 896, 893, 899, 906, 907, 903, 915, 917, 918, 925, 928, 929, 923, 936, 938, 939, 941, 944, 934, 958, 950, 947, 960, 964, 948, 931, 965, 967, 975, 973, 984, 983, 982, 986, 989, 993, 994, 988, 998, 1001, 1000, 1004, 1005, 1008, 1022, 1023, 1024, 1029, 1030, 1033, 1038, 1041, 1043, 1044, 1045, 1042, 1047, 1050])"
      ]
     },
     "execution_count": 8,
     "metadata": {},
     "output_type": "execute_result"
    }
   ],
   "source": [
    "trajectory_logger.keys()"
   ]
  },
  {
   "cell_type": "code",
   "execution_count": 11,
   "metadata": {},
   "outputs": [],
   "source": [
    "traj = np.array(trajectory_logger[220]['bounding_boxes'])"
   ]
  },
  {
   "cell_type": "code",
   "execution_count": 12,
   "metadata": {},
   "outputs": [
    {
     "data": {
      "text/plain": [
       "array([[2081, 1286, 2096, 1303]])"
      ]
     },
     "execution_count": 12,
     "metadata": {},
     "output_type": "execute_result"
    }
   ],
   "source": [
    "traj"
   ]
  },
  {
   "cell_type": "code",
   "execution_count": 13,
   "metadata": {},
   "outputs": [
    {
     "data": {
      "text/plain": [
       "array([15])"
      ]
     },
     "execution_count": 13,
     "metadata": {},
     "output_type": "execute_result"
    }
   ],
   "source": [
    "traj[:, 2] - traj[:, 0]"
   ]
  },
  {
   "cell_type": "code",
   "execution_count": 23,
   "metadata": {},
   "outputs": [],
   "source": [
    "for ids, trajectory in trajectory_logger.items():\n",
    "    if trajectory[\"number_of_detections\"] > 15:\n",
    "        start_time = trajectory[\"timestamps\"][0]\n",
    "        end_time = trajectory[\"timestamps\"][-1]\n",
    "        ride_time = end_time - start_time\n",
    "        \n",
    "        centroid_start = trajectory[\"centroid\"][0]\n",
    "        centroid_end = trajectory[\"centroid\"][-1]\n",
    "        centroid_diff = np.subtract(centroid_end, centroid_start)\n",
    "        \n",
    "        dist = np.sqrt(centroid_diff[0]**2 + centroid_diff[0]**2)\n",
    "        \n",
    "        traj = np.array(trajectory['bounding_boxes'])\n",
    "        x_height = traj[:, 2] - traj[:, 0]\n",
    "        y_height = traj[:, 2] - traj[:, 0]\n",
    "        size = np.sqrt(x_height**2 + y_height**2)\n",
    "\n",
    "        break\n",
    "#         print(\"Ride %d, Time %.2f, Distance %.2f pixels\" % (int(ids), ride_time, dist))\n"
   ]
  },
  {
   "cell_type": "code",
   "execution_count": 24,
   "metadata": {},
   "outputs": [
    {
     "data": {
      "text/plain": [
       "[<matplotlib.lines.Line2D at 0x7f3c4392dac8>]"
      ]
     },
     "execution_count": 24,
     "metadata": {},
     "output_type": "execute_result"
    },
    {
     "data": {
      "image/png": "[encoded data removed]",
      "text/plain": [
       "<Figure size 432x288 with 1 Axes>"
      ]
     },
     "metadata": {
      "needs_background": "light"
     },
     "output_type": "display_data"
    }
   ],
   "source": [
    "plt.plot(size)"
   ]
  },
  {
   "cell_type": "code",
   "execution_count": null,
   "metadata": {},
   "outputs": [],
   "source": [
    "start_centroid"
   ]
  },
  {
   "cell_type": "code",
   "execution_count": null,
   "metadata": {},
   "outputs": [],
   "source": [
    "trajectory_logger[1572.0]['timestamps'][-1]"
   ]
  },
  {
   "cell_type": "code",
   "execution_count": null,
   "metadata": {},
   "outputs": [],
   "source": [
    "total_tracking = np.concatenate(list(tracks_logger.values()))\n",
    "unique_ids, counts = np.unique(total_tracking[:, -1], return_counts=True)\n",
    "indx = np.argsort(counts)\n",
    "sorted_counts = np.sort(counts)"
   ]
  },
  {
   "cell_type": "code",
   "execution_count": null,
   "metadata": {},
   "outputs": [],
   "source": [
    "# Only count tracks with more than 30 steps\n",
    "valid_tracks = unique_ids[indx[sorted_counts > 15]].tolist()"
   ]
  },
  {
   "cell_type": "code",
   "execution_count": null,
   "metadata": {},
   "outputs": [],
   "source": [
    "valid_tracks"
   ]
  },
  {
   "cell_type": "code",
   "execution_count": null,
   "metadata": {},
   "outputs": [],
   "source": [
    "indx = 0\n",
    "points = np.stack(trajectory_logger[valid_tracks[indx]]['bounding_boxes'])\n",
    "temp = trajectory_logger[valid_tracks[indx]]['timestamps']\n",
    "velocities = np.stack(trajectory_logger[valid_tracks[indx]]['velocities'])"
   ]
  },
  {
   "cell_type": "code",
   "execution_count": null,
   "metadata": {},
   "outputs": [],
   "source": [
    "vel_mag = np.sqrt(velocities[:, 0]**2 + velocities[:, 1]**2)"
   ]
  },
  {
   "cell_type": "code",
   "execution_count": null,
   "metadata": {},
   "outputs": [],
   "source": [
    "print(\"Ride time %.2f seconds\" % (temp[-1] - temp[0]))"
   ]
  },
  {
   "cell_type": "code",
   "execution_count": null,
   "metadata": {},
   "outputs": [],
   "source": [
    "m_pix = 1.65/((pd_dataframe[\"y1\"] - pd_dataframe[\"y0\"]).mean() * y_size)"
   ]
  },
  {
   "cell_type": "code",
   "execution_count": null,
   "metadata": {},
   "outputs": [],
   "source": [
    "(vel_mag * 3) * m_pix"
   ]
  },
  {
   "cell_type": "code",
   "execution_count": null,
   "metadata": {},
   "outputs": [],
   "source": [
    "c = np.linspace(0, 1, len(points))\n",
    "_ = plt.scatter(points[:, 0], points[:, 1], c=vel_mag)\n",
    "plt.quiver(points[:, 0], points[:, 1], \n",
    "           velocities[:, 0], velocities[:, 1], \n",
    "           color='b', units='xy', width=10, scale=0.5)\n",
    "plt.xlim([0, x_size])\n",
    "plt.ylim([0, y_size])\n",
    "_ = plt.title(\"Ride Trajectory\")"
   ]
  },
  {
   "cell_type": "code",
   "execution_count": null,
   "metadata": {},
   "outputs": [],
   "source": [
    "# Overlay onto video\n",
    "vid = cv2.VideoCapture(\"au-currumbin4k.stream.20200608T000955960.bbox.mp4\")\n",
    "fps = vid.get(cv2.CAP_PROP_FPS)\n",
    "timestamps = [vid.get(cv2.CAP_PROP_POS_MSEC)]\n",
    "calc_timestamps = [0.0]\n",
    "\n",
    "frame_width = int(vid.get(3))\n",
    "frame_height = int(vid.get(4))\n",
    "size = (frame_width, frame_height)\n",
    "\n",
    "save_vid = cv2.VideoWriter('test2.avi', \n",
    "                         cv2.VideoWriter_fourcc(*'MJPG'),\n",
    "                         3, size)\n",
    "    \n",
    "tracks_mask = None\n",
    "tracks_frame = None\n",
    "valid_tracks_colours = np.random.randint(0, 255, (len(valid_tracks), 3))\n",
    "\n",
    "for i in trange(pd_dataframe['frames_indx'].max(), leave=False):\n",
    "    ret, frame = vid.read()\n",
    "\n",
    "    if tracks_frame is None:\n",
    "        tracks_mask = np.ones_like(frame)\n",
    "        tracks_frame = np.zeros_like(frame)\n",
    "\n",
    "    if i in tracks_logger.keys():\n",
    "        tracks = tracks_logger[i]\n",
    "\n",
    "        for track in tracks:\n",
    "            if track[-1] in valid_tracks:\n",
    "                center = np.array([track[0] + bb_x_size//2, track[1] + bb_y_size//2]).astype(int)\n",
    "                track_indx = np.where(valid_tracks == track[-1])[0][0]\n",
    "                color = valid_tracks_colours[track_indx].tolist()\n",
    "                thickness = 10\n",
    "                radius=30\n",
    "                frame = cv2.circle(frame, center, radius, color, 3)\n",
    "                \n",
    "                arrow_start_point\n",
    "                arrow_end_point\n",
    "                frame = cv2.arrowedLine(frame, arrow_start_point, end_point,\n",
    "                                     color, thickness) \n",
    "\n",
    "                start_point =  center + np.array([10, 15])\n",
    "                end_point = center + np.array([-10, 15])\n",
    "                tracks_mask = cv2.line(tracks_mask, start_point, end_point, (0, 0, 0), thickness) \n",
    "                tracks_frame = cv2.line(tracks_frame, start_point, end_point, color, thickness) \n",
    "\n",
    "    save_vid.write(frame * tracks_mask + tracks_frame)\n",
    "\n",
    "vid.release()\n",
    "save_vid.release()"
   ]
  },
  {
   "cell_type": "code",
   "execution_count": null,
   "metadata": {},
   "outputs": [],
   "source": [
    "len(log_tracks)"
   ]
  },
  {
   "cell_type": "code",
   "execution_count": null,
   "metadata": {},
   "outputs": [],
   "source": [
    "pd_dataframe['frames_indx'].max()"
   ]
  },
  {
   "cell_type": "code",
   "execution_count": null,
   "metadata": {},
   "outputs": [],
   "source": [
    "tracks"
   ]
  },
  {
   "cell_type": "code",
   "execution_count": null,
   "metadata": {},
   "outputs": [],
   "source": [
    "i"
   ]
  },
  {
   "cell_type": "code",
   "execution_count": null,
   "metadata": {},
   "outputs": [],
   "source": [
    "len(log_tracks)"
   ]
  }
 ],
 "metadata": {
  "kernelspec": {
   "display_name": "Python 3",
   "language": "python",
   "name": "python3"
  },
  "language_info": {
   "codemirror_mode": {
    "name": "ipython",
    "version": 3
   },
   "file_extension": ".py",
   "mimetype": "text/x-python",
   "name": "python",
   "nbconvert_exporter": "python",
   "pygments_lexer": "ipython3",
   "version": "3.6.9"
  }
 },
 "nbformat": 4,
 "nbformat_minor": 4
}
